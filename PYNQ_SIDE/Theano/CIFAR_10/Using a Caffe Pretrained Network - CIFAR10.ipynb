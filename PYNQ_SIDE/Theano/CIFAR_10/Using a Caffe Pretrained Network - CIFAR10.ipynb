{
 "cells": [
  {
   "cell_type": "markdown",
   "metadata": {},
   "source": [
    "# Introduction\n",
    "\n",
    "This example demonstrates how to convert a network from [Caffe's Model Zoo](https://github.com/BVLC/caffe/wiki/Model-Zoo) for use with Lasagne. We will be using the Caffe version of CIFAR-10 Model.\n",
    "\n",
    "We will create a set of Lasagne layers corresponding to the Caffe model specification (prototxt), then copy the parameters from the caffemodel file into our model."
   ]
  },
  {
   "cell_type": "markdown",
   "metadata": {
    "collapsed": false
   },
   "source": [
    "# Converting from Caffe to Lasagne\n",
    "### Download the required files\n",
    "\n",
    "First we download `caffemodel` and `prototxt`. The supplied `prototxt` was modified to replace the data layers with an input specification, and remove the unneeded loss/accuracy layers."
   ]
  },
  {
   "cell_type": "markdown",
   "metadata": {},
   "source": [
    "### Import Caffe\n",
    "\n",
    "To load the saved parameters, we'll need to have Caffe's Python bindings installed."
   ]
  },
  {
   "cell_type": "code",
   "execution_count": 1,
   "metadata": {
    "collapsed": false
   },
   "outputs": [],
   "source": [
    "import sys\n",
    "caffe_root = '/home/xilinx/caffe/'  # this file should be run from {caffe_root}/examples (otherwise change this line)\n",
    "sys.path.insert(0, caffe_root + 'python')\n",
    "import caffe"
   ]
  },
  {
   "cell_type": "markdown",
   "metadata": {},
   "source": [
    "### Load the pretrained Caffe network"
   ]
  },
  {
   "cell_type": "code",
   "execution_count": 2,
   "metadata": {
    "collapsed": false
   },
   "outputs": [],
   "source": [
    "net_caffe = caffe.Net('CIFAR_10.prototxt', 'cifar10_quick_iter_5000.caffemodel.h5', caffe.TEST)"
   ]
  },
  {
   "cell_type": "markdown",
   "metadata": {},
   "source": [
    "### Import Lasagne"
   ]
  },
  {
   "cell_type": "code",
   "execution_count": 3,
   "metadata": {
    "collapsed": false
   },
   "outputs": [],
   "source": [
    "import lasagne\n",
    "from lasagne.layers import InputLayer, DropoutLayer, DenseLayer, NonlinearityLayer\n",
    "from lasagne.layers import Conv2DLayer as ConvLayer\n",
    "from lasagne.layers import Pool2DLayer as PoolLayer\n",
    "from lasagne.nonlinearities import softmax, rectify, linear\n",
    "import conv_fpga\n",
    "from conv_fpga import FPGA_CIFAR10\n",
    "from conv_fpga import FPGAQuickTest\n",
    "from conv_fpga import FPGAWeightLoader as FPGALoadW\n",
    "from lasagne.utils import floatX"
   ]
  },
  {
   "cell_type": "markdown",
   "metadata": {},
   "source": [
    "### Create a Lasagne network\n",
    "Layer names match those in `model.prototxt`"
   ]
  },
  {
   "cell_type": "code",
   "execution_count": 4,
   "metadata": {
    "collapsed": false
   },
   "outputs": [],
   "source": [
    "net = {}\n",
    "net['input'] = InputLayer((None, 3, 32, 32))\n",
    "net['conv1'] = ConvLayer(net['input'], num_filters=32, filter_size=5, pad=2, nonlinearity=None)\n",
    "net['pool1'] = PoolLayer(net['conv1'], pool_size=2, stride=2, mode='max', ignore_border=False)\n",
    "net['relu1'] = NonlinearityLayer(net['pool1'], rectify)\n",
    "net['conv2'] = ConvLayer(net['relu1'], num_filters=32, filter_size=5, pad=2, nonlinearity=rectify)\n",
    "net['pool2'] = PoolLayer(net['conv2'], pool_size=2, stride=2, mode='average_exc_pad', ignore_border=False)\n",
    "net['conv3'] = ConvLayer(net['pool2'], num_filters=64, filter_size=5, pad=2, nonlinearity=rectify)\n",
    "net['pool3'] = PoolLayer(net['conv3'], pool_size=2, stride=2, mode='average_exc_pad', ignore_border=False)\n",
    "net['ip1'] = DenseLayer(net['pool3'], num_units=64, nonlinearity = None)\n",
    "net['ip2'] = DenseLayer(net['ip1'], num_units=10, nonlinearity = None)\n",
    "net['prob'] = NonlinearityLayer(net['ip2'], softmax)"
   ]
  },
  {
   "cell_type": "markdown",
   "metadata": {
    "collapsed": false
   },
   "source": [
    "### Copy the parameters from Caffe to Lasagne"
   ]
  },
  {
   "cell_type": "code",
   "execution_count": 5,
   "metadata": {
    "collapsed": false
   },
   "outputs": [],
   "source": [
    "import numpy as np\n",
    "\n",
    "layers_caffe = dict(zip(list(net_caffe._layer_names), net_caffe.layers))\n",
    "\n",
    "for name, layer in net.items():\n",
    "    try:\n",
    "        if name=='ip1'or name=='ip2':\n",
    "            layer.W.set_value(np.transpose(layers_caffe[name].blobs[0].data))\n",
    "            layer.b.set_value(layers_caffe[name].blobs[1].data)\n",
    "        else:\n",
    "            layer.W.set_value(layers_caffe[name].blobs[0].data[:,:,::-1,::-1])\n",
    "            layer.b.set_value(layers_caffe[name].blobs[1].data)\n",
    "            \n",
    "    except AttributeError:\n",
    "        continue"
   ]
  },
  {
   "cell_type": "markdown",
   "metadata": {},
   "source": [
    "### Copy the parameters from CPU to FPGA OnChip Memory"
   ]
  },
  {
   "cell_type": "code",
   "execution_count": 6,
   "metadata": {
    "collapsed": false
   },
   "outputs": [
    {
     "name": "stdout",
     "output_type": "stream",
     "text": [
      "weight shape (32, 3, 5, 5)\n",
      "kermax 0.191131100059\n",
      "kermin -0.26925727725\n",
      "Elapsed Test Time:  0.0022779039999996087\n",
      "weight shape (32, 32, 5, 5)\n",
      "kermax 0.112733885646\n",
      "kermin -0.121608451009\n",
      "Elapsed Test Time:  0.0007316089999989117\n",
      "weight shape (64, 32, 5, 5)\n",
      "kermax 0.0932634323835\n",
      "kermin -0.0825128629804\n",
      "Elapsed Test Time:  0.0013028369999972256\n",
      "weight shape (64, 64, 4, 4)\n",
      "kermax 0.366065233946\n",
      "kermin -0.347633630037\n",
      "Elapsed Test Time:  0.0016347200000019768\n",
      "weight shape (10, 64, 1, 1)\n",
      "kermax 0.284343063831\n",
      "kermin -0.279969036579\n",
      "Elapsed Test Time:  0.00023634700000130238\n"
     ]
    }
   ],
   "source": [
    "#FPGALoadW(weight, status, IFDim, OFDim, PadDim)\n",
    "weight = net['conv1'].W.get_value()\n",
    "FPGALoadW(weight, 1, 32, 32, 2)\n",
    "weight = net['conv2'].W.get_value()\n",
    "FPGALoadW(weight, 2, 16, 16, 2)\n",
    "weight = net['conv3'].W.get_value()\n",
    "FPGALoadW(weight, 3, 8, 8, 2)\n",
    "weight = net['ip1'].W.get_value()\n",
    "weight = np.transpose(weight)\n",
    "weight = weight.reshape(64, 64, 4, 4)\n",
    "FPGALoadW(weight, 4, 4, 1, 0, flip_filters=False)\n",
    "weight = net['ip2'].W.get_value()\n",
    "weight = np.transpose(weight)\n",
    "weight = weight.reshape(10, 64, 1, 1)\n",
    "FPGALoadW(weight, 5, 1, 1, 0, flip_filters=False)"
   ]
  },
  {
   "cell_type": "markdown",
   "metadata": {
    "collapsed": false
   },
   "source": [
    "# Trying it out\n",
    "Let's see if that worked. \n",
    "\n",
    "### Import numpy and set up plotting\n",
    "### Import time"
   ]
  },
  {
   "cell_type": "code",
   "execution_count": 7,
   "metadata": {
    "collapsed": true
   },
   "outputs": [],
   "source": [
    "import gzip\n",
    "import _pickle as cPickle\n",
    "import matplotlib.pyplot as plt\n",
    "import time\n",
    "\n",
    "%matplotlib inline"
   ]
  },
  {
   "cell_type": "markdown",
   "metadata": {},
   "source": [
    "### Download some test data\n",
    "Load CIFAR_10 test data."
   ]
  },
  {
   "cell_type": "code",
   "execution_count": 8,
   "metadata": {
    "collapsed": false
   },
   "outputs": [
    {
     "data": {
      "text/plain": [
       "<matplotlib.image.AxesImage at 0x2a1982f0>"
      ]
     },
     "execution_count": 8,
     "metadata": {},
     "output_type": "execute_result"
    },
    {
     "data": {
      "image/png": "iVBORw0KGgoAAAANSUhEUgAAATYAAAE0CAYAAACmdB+iAAAABHNCSVQICAgIfAhkiAAAAAlwSFlz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\nGSm7AAAAAElFTkSuQmCC\n",
      "text/plain": [
       "<matplotlib.figure.Figure at 0x2a2f8410>"
      ]
     },
     "metadata": {},
     "output_type": "display_data"
    }
   ],
   "source": [
    "data = np.load('cifar10.npz')\n",
    "mean_image = np.load('mean_image.npy')\n",
    "data_zeromean = data['raw'] - mean_image\n",
    "# print(np.shape(data['whitened'][0:1]))\n",
    "# print(np.amax(data['raw'][0:1]))\n",
    "# print(np.amin(data['raw'][0:1]))\n",
    "##\n",
    "def make_image(X):\n",
    "    im = np.swapaxes(X.T, 0, 1)\n",
    "    im = im - im.min()\n",
    "    im = im * 1.0 / im.max()\n",
    "    return im\n",
    "plt.figure(figsize=(5, 5))\n",
    "plt.imshow(make_image(data['raw'][0]), interpolation='nearest')"
   ]
  },
  {
   "cell_type": "markdown",
   "metadata": {},
   "source": [
    "### FPGA Deployment (CIFAR10 Layer)"
   ]
  },
  {
   "cell_type": "code",
   "execution_count": 9,
   "metadata": {
    "collapsed": true
   },
   "outputs": [],
   "source": [
    "FPGA_net = {}\n",
    "FPGA_net['input'] = InputLayer((None, 3, 32, 32))\n",
    "FPGA_net['cifar10'] = FPGA_CIFAR10(FPGA_net['input'])\n",
    "FPGA_net['prob'] = NonlinearityLayer(FPGA_net['cifar10'], softmax)"
   ]
  },
  {
   "cell_type": "code",
   "execution_count": 14,
   "metadata": {
    "collapsed": false
   },
   "outputs": [
    {
     "name": "stdout",
     "output_type": "stream",
     "text": [
      "Elapsed Test Time:  3.339452191999996\n",
      "CPU times: user 8.85 s, sys: 390 ms, total: 9.24 s\n",
      "Wall time: 9.25 s\n"
     ]
    }
   ],
   "source": [
    "batch_size = 500\n",
    "\n",
    "%time prob = lasagne.layers.get_output(FPGA_net['cifar10'], floatX(data_zeromean[0:batch_size]*64), deterministic=True)#.eval()\n",
    "FPGA_predicted = np.argmax(prob, 1)"
   ]
  },
  {
   "cell_type": "code",
   "execution_count": 15,
   "metadata": {
    "collapsed": false
   },
   "outputs": [
    {
     "name": "stdout",
     "output_type": "stream",
     "text": [
      "[3 8 8 0 6 6 1 6 3 1 0 9 5 7 9 8 5 9 8 6 7 0 4 9 4 2 4 0 9 6 6 5 2 5 9 1 4\n",
      " 9 9 5 4 6 3 6 0 9 3 9 7 6 9 8 6 3 8 8 7 5 5 3 7 3 6 9 6 2 1 2 3 7 0 6 8 8\n",
      " 0 2 9 3 2 8 8 1 1 7 2 7 2 8 8 9 0 6 8 6 4 6 6 0 0 7 5 5 6 3 1 1 2 6 8 7 4\n",
      " 0 2 2 1 3 0 4 3 5 8 3 1 2 8 2 9 3 3 2 4 1 8 9 1 2 9 7 2 8 6 5 6 3 8 3 6 5\n",
      " 5 3 8 9 6 0 0 5 2 9 3 4 0 1 5 6 0 0 8 6 7 0 9 7 9 8 9 9 3 7 5 0 0 5 2 2 0\n",
      " 8 6 3 3 8 5 8 0 1 7 5 8 8 7 8 5 9 8 7 1 3 0 5 7 9 3 0 5 9 8 0 7 9 0 4 4 3\n",
      " 9 5 3 1 3 2 3 6 5 1 5 1 8 0 4 7 3 5 1 1 1 9 0 2 1 8 2 0 7 3 9 9 2 0 6 0 8\n",
      " 9 8 1 5 3 1 8 8 4 7 0 2 3 6 3 8 2 0 2 4 3 9 0 6 1 9 9 1 0 7 9 1 2 6 1 3 2\n",
      " 6 0 0 6 6 6 5 2 6 1 9 2 9 4 1 6 0 0 3 0 7 7 5 5 5 5 2 3 7 1 7 5 4 6 1 9 6\n",
      " 6 6 9 3 8 0 7 4 6 0 7 8 5 7 6 8 9 9 1 8 2 6 3 5 2 8 0 9 5 8 1 9 2 2 0 0 1\n",
      " 2 7 9 4 2 7 9 7 8 6 6 9 0 0 5 8 7 2 5 5 1 2 6 2 9 6 4 3 9 1 9 1 7 8 8 6 0\n",
      " 1 8 2 7 8 5 6 1 9 3 7 7 7 4 7 8 0 2 9 3 3 6 6 4 5 3 3 3 7 9 2 5 9 1 2 9 9\n",
      " 3 7 5 0 2 0 9 9 7 3 9 4 6 3 3 9 5 6 1 7 9 4 7 3 3 8 3 7 8 0 5 7 6 0 5 4 9\n",
      " 6 8 5 5 0 9 9 5 0 1 0 0 1 1 8 0 5 2 0]\n",
      "[3 8 8 0 6 6 1 6 3 1 0 9 5 7 9 8 5 7 8 6 7 0 4 9 5 2 4 0 9 6 6 5 4 5 9 2 4\n",
      " 1 9 5 4 6 5 6 0 9 3 9 7 6 9 8 0 3 8 8 7 7 4 6 7 3 6 3 6 2 1 2 3 7 2 6 8 8\n",
      " 0 2 9 3 3 8 8 1 1 7 2 5 2 7 8 9 0 3 8 6 4 6 6 0 0 7 4 5 6 3 1 1 3 6 8 7 4\n",
      " 0 6 2 1 3 0 4 2 7 8 3 1 2 8 0 8 3 5 2 4 1 8 9 1 2 9 7 2 9 6 5 6 3 8 7 6 2\n",
      " 5 2 8 9 6 0 0 5 2 9 5 4 2 1 6 6 8 4 8 4 5 0 9 9 9 8 9 9 3 7 5 0 0 5 2 2 3\n",
      " 8 6 3 4 0 5 8 0 1 7 2 8 8 7 8 5 1 8 7 1 3 0 5 7 9 7 4 5 9 8 0 7 9 8 2 7 6\n",
      " 9 4 3 9 6 4 7 6 5 1 5 8 8 0 4 0 5 5 1 1 8 9 0 3 1 9 2 2 5 3 9 9 4 0 3 0 0\n",
      " 9 8 1 5 7 0 8 2 4 7 0 2 3 6 3 8 5 0 3 4 3 9 0 6 1 0 9 1 0 7 9 1 2 6 9 3 4\n",
      " 6 0 0 6 6 6 3 2 6 1 8 2 1 6 8 6 8 0 4 0 7 7 5 5 3 5 2 3 4 1 7 5 4 6 1 9 3\n",
      " 6 6 9 3 8 0 7 2 6 2 5 8 5 4 6 8 9 9 1 0 2 2 7 3 2 8 0 9 5 8 1 9 4 1 3 8 1\n",
      " 4 7 9 4 2 7 0 7 0 6 6 9 0 9 2 8 7 2 2 5 1 2 6 2 9 6 2 3 0 3 9 8 7 8 8 4 0\n",
      " 1 8 2 7 9 3 6 1 9 0 7 3 7 4 5 0 0 2 9 3 4 0 6 2 5 3 7 3 7 2 5 3 1 1 4 9 9\n",
      " 5 7 5 0 2 2 2 9 7 3 9 4 3 5 4 6 5 6 1 4 3 4 4 3 7 8 3 7 8 0 5 7 6 0 5 4 8\n",
      " 6 8 5 5 9 9 9 5 0 1 0 8 1 1 8 0 2 2 0]\n",
      "0.732\n"
     ]
    }
   ],
   "source": [
    "FPGA_accuracy = np.mean(FPGA_predicted == data['labels'][0:batch_size])\n",
    "print(FPGA_predicted)\n",
    "print(data['labels'][0:batch_size])\n",
    "print(FPGA_accuracy)"
   ]
  },
  {
   "cell_type": "markdown",
   "metadata": {},
   "source": [
    "### FPGA Deployment (QuickTest Function)"
   ]
  },
  {
   "cell_type": "code",
   "execution_count": 9,
   "metadata": {
    "collapsed": false
   },
   "outputs": [
    {
     "name": "stdout",
     "output_type": "stream",
     "text": [
      "Elapsed Test Time:  4.414703506999999\n",
      "CPU times: user 3.26 s, sys: 2.46 s, total: 5.72 s\n",
      "Wall time: 4.34 s\n"
     ]
    }
   ],
   "source": [
    "batch_size = 500\n",
    "\n",
    "OFMDim = 1\n",
    "OFMCH = 10\n",
    "%time FPGA_output = FPGAQuickTest(data_zeromean*64, batch_size, OFMDim, OFMCH)\n",
    "FPGA_predicted = np.argmax(FPGA_output.reshape(batch_size, -1), 1)\n",
   ]
  },
  {
   "cell_type": "code",
   "execution_count": 10,
   "metadata": {
    "collapsed": false
   },
   "outputs": [
    {
     "name": "stdout",
     "output_type": "stream",
     "text": [
      "[3 8 8 0 6 6 1 6 3 1 0 9 5 7 9 8 5 9 8 6 7 0 4 9 4 2 4 0 9 6 6 5 2 5 9 1 4\n",
      " 9 9 5 4 6 3 6 0 9 3 9 7 6 9 8 6 3 8 8 7 5 5 3 7 3 6 9 6 2 1 2 3 7 0 6 8 8\n",
      " 0 2 9 3 2 8 8 1 1 7 2 7 2 8 8 9 0 6 8 6 4 6 6 0 0 7 5 5 6 3 1 1 2 6 8 7 4\n",
      " 0 2 2 1 3 0 4 3 5 8 3 1 2 8 2 9 3 3 2 4 1 8 9 1 2 9 7 2 8 6 5 6 3 8 3 6 5\n",
      " 5 3 8 9 6 0 0 5 2 9 3 4 0 1 5 6 0 0 8 6 7 0 9 7 9 8 9 9 3 7 5 0 0 5 2 2 0\n",
      " 8 6 3 3 8 5 8 0 1 7 5 8 8 7 8 5 9 8 7 1 3 0 5 7 9 3 0 5 9 8 0 7 9 0 4 4 3\n",
      " 9 5 3 1 3 2 3 6 5 1 5 1 8 0 4 7 3 5 1 1 1 9 0 2 1 8 2 0 7 3 9 9 2 0 6 0 8\n",
      " 9 8 1 5 3 1 8 8 4 7 0 2 3 6 3 8 2 0 2 4 3 9 0 6 1 9 9 1 0 7 9 1 2 6 1 3 2\n",
      " 6 0 0 6 6 6 5 2 6 1 9 2 9 4 1 6 0 0 3 0 7 7 5 5 5 5 2 3 7 1 7 5 4 6 1 9 6\n",
      " 6 6 9 3 8 0 7 4 6 0 7 8 5 7 6 8 9 9 1 8 2 6 3 5 2 8 0 9 5 8 1 9 2 2 0 0 1\n",
      " 2 7 9 4 2 7 9 7 8 6 6 9 0 0 5 8 7 2 5 5 1 2 6 2 9 6 4 3 9 1 9 1 7 8 8 6 0\n",
      " 1 8 2 7 8 5 6 1 9 3 7 7 7 4 7 8 0 2 9 3 3 6 6 4 5 3 3 3 7 9 2 5 9 1 2 9 9\n",
      " 3 7 5 0 2 0 9 9 7 3 9 4 6 3 3 9 5 6 1 7 9 4 7 3 3 8 3 7 8 0 5 7 6 0 5 4 9\n",
      " 6 8 5 5 0 9 9 5 0 1 0 0 1 1 8 0 5 2 0]\n",
      "0.732\n",
      "(1000, 3, 32, 32)\n"
     ]
    }
   ],
   "source": [
    "FPGA_accuracy = np.mean(FPGA_predicted == data['labels'][0:batch_size])\n",
    "print(FPGA_predicted)\n",
    "print(FPGA_accuracy)\n",
    "print(data_zeromean.shape)"
   ]
  },
  {
   "cell_type": "markdown",
   "metadata": {},
   "source": [
    "### Make predictions on the test data"
   ]
  },
  {
   "cell_type": "code",
   "execution_count": 11,
   "metadata": {
    "collapsed": false
   },
   "outputs": [
    {
     "name": "stdout",
     "output_type": "stream",
     "text": [
      "Elapsed Test Time:  89.86046214299999\n"
     ]
    }
   ],
   "source": [
    "batch_size = 500\n",
    "\n",
    "start_time = time.process_time()\n",
    "prob = np.array(lasagne.layers.get_output(net['prob'], floatX(data_zeromean[0:batch_size]), deterministic=True).eval())\n",
    "predicted = np.argmax(prob, 1)\n",
    "end_time = time.process_time()\n",
    "print(\"Elapsed Test Time: \", end_time-start_time)"
   ]
  },
  {
   "cell_type": "markdown",
   "metadata": {},
   "source": [
    "### Check our accuracy\n",
    "We expect around 75%"
   ]
  },
  {
   "cell_type": "code",
   "execution_count": 29,
   "metadata": {
    "collapsed": false
   },
   "outputs": [
    {
     "name": "stdout",
     "output_type": "stream",
     "text": [
      "0.752\n"
     ]
    }
   ],
   "source": [
    "accuracy = np.mean(predicted == data['labels'][0:batch_size])\n",
    "# print(predicted)\n",
    "# print(data['labels'][0:500])\n",
    "print(accuracy)"
   ]
  },
  {
   "cell_type": "code",
   "execution_count": 17,
   "metadata": {
    "collapsed": false
   },
   "outputs": [
    {
     "data": {
      "image/png": "iVBORw0KGgoAAAANSUhEUgAAA54AAABuCAYAAABP9cxjAAAABHNCSVQICAgIfAhkiAAAAAlwSFlz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\n53ObzNOBAAAAAElFTkSuQmCC\n",
      "text/plain": [
       "<matplotlib.figure.Figure at 0x276fca90>"
      ]
     },
     "metadata": {},
     "output_type": "display_data"
    }
   ],
   "source": [
    "wrong = FPGA_predicted != data['labels'][0:batch_size]\n",
    "wrong_ind = [i for i,x in enumerate(wrong) if x == 1]\n",
    "# print(wrong_ind)\n",
    "\n",
    "def make_image(X):\n",
    "    im = np.swapaxes(X.T, 0, 1)\n",
    "    im = im - im.min()\n",
    "    im = im * 1.0 / im.max()\n",
    "    return im\n",
    "\n",
    "plt.figure(figsize=(16, 5))\n",
    "for i in range(0, 10):\n",
    "    plt.subplot(1, 10, i+1)\n",
    "    plt.imshow(make_image(data['raw'][wrong_ind[i]]), interpolation='nearest')\n",
    "    true = data['CLASSES'][data['labels'][wrong_ind[i]]]\n",
    "    pred = data['CLASSES'][FPGA_predicted[wrong_ind[i]]]\n",
    "    color = 'green' if true == pred else 'red'\n",
    "    plt.text(0, 0, true, color='black', bbox=dict(facecolor='white', alpha=1))\n",
    "    plt.text(0, 32, pred, color=color, bbox=dict(facecolor='white', alpha=1))\n",
    "\n",
    "    plt.axis('off')"
   ]
  }
 ],
 "metadata": {
  "kernelspec": {
   "display_name": "Python 3",
   "language": "python",
   "name": "python3"
  },
  "language_info": {
   "codemirror_mode": {
    "name": "ipython",
    "version": 3
   },
   "file_extension": ".py",
   "mimetype": "text/x-python",
   "name": "python",
   "nbconvert_exporter": "python",
   "pygments_lexer": "ipython3",
   "version": "3.4.3+"
  }
 },
 "nbformat": 4,
 "nbformat_minor": 0
}
